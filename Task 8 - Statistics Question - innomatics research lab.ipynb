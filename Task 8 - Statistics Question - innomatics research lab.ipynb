{
 "cells": [
  {
   "cell_type": "markdown",
   "metadata": {},
   "source": [
    "## Task 8 - Statistics Question - innomatics research lab"
   ]
  },
  {
   "cell_type": "markdown",
   "metadata": {},
   "source": [
    "**By: SAHANA HEGDE**"
   ]
  },
  {
   "cell_type": "code",
   "execution_count": 12,
   "metadata": {},
   "outputs": [
    {
     "name": "stdout",
     "output_type": "stream",
     "text": [
      "1.09 1\n",
      "0.696\n"
     ]
    }
   ],
   "source": [
    "#Question 1: Binomial distribution -I\n",
    "#Solution\n",
    "from math import factorial\n",
    "def b(n, x, p):\n",
    "    return factorial(n) // factorial(n - x) // factorial(x) * (p ** x) * (1 - p) ** (n - x)\n",
    "\n",
    "\n",
    "boys, girls = map(float, input().split())\n",
    "\n",
    "p = boys / (boys + girls)\n",
    "\n",
    "r = b(6, 3, p) + b(6, 4, p) + b(6, 5, p) + b(6, 6, p)\n",
    "\n",
    "print(\"%.3f\" % r)"
   ]
  },
  {
   "cell_type": "code",
   "execution_count": 9,
   "metadata": {},
   "outputs": [
    {
     "name": "stdout",
     "output_type": "stream",
     "text": [
      "12 10\n",
      "0.891\n",
      "0.342\n"
     ]
    }
   ],
   "source": [
    "#Question 2: Binomial Distribution II\n",
    "#Solution\n",
    "from math import factorial\n",
    "def b(n, v, j):\n",
    "    return factorial(n) // factorial(n - v) // factorial(v) * (j ** v) * (1 - j) ** (n - v)\n",
    "\n",
    "j, n = map(int, input().split())\n",
    "\n",
    "j = j / 100     \n",
    "\n",
    "r = b(n, 0, j) + b(n, 1, j) + b(n, 2, j)        \n",
    "print(\"%.3f\" % r)\n",
    "\n",
    "r = sum(b(n, i, p) for i in range(2, n + 1))    \n",
    "print(\"%.3f\" % r)"
   ]
  },
  {
   "cell_type": "code",
   "execution_count": 1,
   "metadata": {},
   "outputs": [
    {
     "name": "stdout",
     "output_type": "stream",
     "text": [
      "0.401\n",
      "0.341\n"
     ]
    }
   ],
   "source": [
    "#Question 3: Normal Distribution I\n",
    "#Solution:\n",
    "import math\n",
    "\n",
    "π = math.pi\n",
    "\n",
    "\n",
    "def N(x, µ, σ):\n",
    "    \n",
    "    return math.exp(- (x - µ) ** 2 / (2 * σ * σ)) / (σ * math.sqrt(2 * π))\n",
    "\n",
    "\n",
    "def Φ(x, µ, σ):\n",
    "    \n",
    "    return 1 / 2 * (1 + math.erf((x - µ) / σ / math.sqrt(2)))\n",
    "\n",
    "\n",
    "µ = 20\n",
    "σ = 2\n",
    "\n",
    "print(\"{:.3f}\".format(Φ(19.5, µ, σ)))\n",
    "\n",
    "print(\"{:.3f}\".format(Φ(22, µ, σ) - Φ(20, µ, σ)))"
   ]
  },
  {
   "cell_type": "code",
   "execution_count": 5,
   "metadata": {},
   "outputs": [
    {
     "name": "stdout",
     "output_type": "stream",
     "text": [
      "70 10\n",
      "80\n",
      "60\n",
      "15.87\n",
      "84.13\n",
      "15.87\n"
     ]
    }
   ],
   "source": [
    "#Question 4: Normal Distribution II\n",
    "#Solution\n",
    "import math\n",
    "\n",
    "\n",
    "def N(x, µ, σ):\n",
    "    \n",
    "    π = math.pi\n",
    "    return math.exp(- (x - µ) ** 2 / (2 * σ * σ)) / (σ * math.sqrt(2 * π))\n",
    "\n",
    "\n",
    "def Φ(x, µ, σ):\n",
    "    \n",
    "    return 1 / 2 * (1 + math.erf((x - µ) / σ / math.sqrt(2)))\n",
    "\n",
    "\n",
    "µ, σ = map(float, input().split())\n",
    "q1 = float(input())\n",
    "q2 = float(input())\n",
    "\n",
    "print(\"{:.2f}\".format(100 - Φ(q1, µ, σ) * 100))\n",
    "\n",
    "print(\"{:.2f}\".format(100 - Φ(q2, µ, σ) * 100))\n",
    "\n",
    "\n",
    "print(\"{:.2f}\".format(Φ(q2, µ, σ) * 100))"
   ]
  },
  {
   "cell_type": "code",
   "execution_count": 4,
   "metadata": {},
   "outputs": [
    {
     "name": "stdout",
     "output_type": "stream",
     "text": [
      "9800\n",
      "49\n",
      "205\n",
      "15\n",
      "0.0098\n"
     ]
    }
   ],
   "source": [
    "#Question 5:the central limit theorem 1\n",
    "#Solution\n",
    "import math\n",
    "\n",
    "def Φ(x, µ, σ):\n",
    "    \n",
    "    return 1 / 2 * (1 + math.erf((x - µ) / σ / math.sqrt(2)))\n",
    "\n",
    "capacity = float(input())      \n",
    "n = int(input())                \n",
    "µ = float(input())              \n",
    "σ = float(input())\n",
    "p = Φ(capacity, n * µ, math.sqrt(n) * σ)\n",
    "\n",
    "print(\"{:.4f}\".format(p))\n"
   ]
  },
  {
   "cell_type": "code",
   "execution_count": 10,
   "metadata": {},
   "outputs": [
    {
     "name": "stdout",
     "output_type": "stream",
     "text": [
      "250\n",
      "100\n",
      "2.4\n",
      "2.0\n",
      "0.6915\n"
     ]
    }
   ],
   "source": [
    "#Question 6: the central limit theorem II\n",
    "#Solution\n",
    "import math\n",
    "\n",
    "def Φ(x, µ, σ):\n",
    "    \n",
    "    return 1 / 2 * (1 + math.erf((x - µ) / σ / math.sqrt(2)))\n",
    "\n",
    "tick = int(input())          \n",
    "stud = int(input())         \n",
    "µ = float(input())             \n",
    "σ = float(input())              \n",
    "\n",
    "q = Φ(tick, stud * µ, math.sqrt(stud) * σ)\n",
    "\n",
    "print(\"{:.4f}\".format(q))"
   ]
  },
  {
   "cell_type": "code",
   "execution_count": 19,
   "metadata": {},
   "outputs": [
    {
     "name": "stdout",
     "output_type": "stream",
     "text": [
      "100\n",
      "500\n",
      "80\n",
      ".95\n",
      "1.96\n",
      "484.320000\n",
      "515.680000\n"
     ]
    }
   ],
   "source": [
    "#Question 7: the central limit theorem III\n",
    "#Solution\n",
    "\n",
    "import math\n",
    "\n",
    "n = int(input())                \n",
    "µ = float(input())             \n",
    "σ = float(input())              \n",
    "percent = float(input())        \n",
    "z = float(input())\n",
    "e = z * σ / math.sqrt(n)\n",
    "print('{:2f}'.format(µ - e))\n",
    "print('{:2f}'.format(µ + e))"
   ]
  },
  {
   "cell_type": "code",
   "execution_count": 20,
   "metadata": {},
   "outputs": [
    {
     "name": "stdout",
     "output_type": "stream",
     "text": [
      "10\n",
      "10 9.8 8 7.8 7.7 7 6 5 4 2 \n",
      "200 44 32 24 22 17 15 12 8 4\n",
      "0.612\n"
     ]
    }
   ],
   "source": [
    "#Question 8: Pearson Correlation Coefficient I\n",
    "#Solution\n",
    "def pearson(n, X, Y):\n",
    "    mx = sum(X) / n                \n",
    "    my = sum(Y) / n\n",
    "\n",
    "    sx = 0\n",
    "    sy = 0\n",
    "    p = 0\n",
    "\n",
    "    for x, y in zip(X, Y):\n",
    "        sx += (x - mx) ** 2         \n",
    "        sy += (y - my) ** 2         \n",
    "        p += (x - mx) * (y - my)    \n",
    "\n",
    "    sx = (sx / n) ** 0.5\n",
    "    sy = (sy / n) ** 0.5\n",
    "\n",
    "    p = p / (n * sx * sy)\n",
    "    return p\n",
    "\n",
    "\n",
    "n = int(input())\n",
    "X = list(map(float, input().split()))\n",
    "Y = list(map(float, input().split()))\n",
    "\n",
    "print('{:.3f}'.format(pearson(n, X, Y)))"
   ]
  },
  {
   "cell_type": "code",
   "execution_count": 21,
   "metadata": {},
   "outputs": [
    {
     "name": "stdout",
     "output_type": "stream",
     "text": [
      "95 85\n",
      "85 95\n",
      "80 70\n",
      "70 65\n",
      "60 70\n",
      "78.288\n"
     ]
    }
   ],
   "source": [
    "#Question 9: Least Square Regression Line\n",
    "#Solution\n",
    "def pearson(n, X, Y):\n",
    "    mx = sum(X) / n                \n",
    "    my = sum(Y) / n\n",
    "\n",
    "    sx = 0.\n",
    "    sy = 0.\n",
    "    p = 0.\n",
    "\n",
    "    for x, y in zip(X, Y):\n",
    "        sx += (x - mx) ** 2         \n",
    "        sy += (y - my) ** 2         \n",
    "        p += (x - mx) * (y - my)    \n",
    "\n",
    "    sx = (sx / n) ** 0.5\n",
    "    sy = (sy / n) ** 0.5\n",
    "\n",
    "    p = p / (n * sx * sy)\n",
    "\n",
    "    b = p * sy / sx                 \n",
    "    a = my - b * mx\n",
    "\n",
    "    return p, a, b\n",
    "\n",
    "\n",
    "X, Y = [0] * 5, [0] * 5\n",
    "for i in range(5):\n",
    "    X[i], Y[i] = map(int, input().split())\n",
    "\n",
    "_, a, b = pearson(5, X, Y)\n",
    "\n",
    "print(\"{:.3f}\".format(a + b * 80))"
   ]
  },
  {
   "cell_type": "code",
   "execution_count": 6,
   "metadata": {},
   "outputs": [
    {
     "name": "stdout",
     "output_type": "stream",
     "text": [
      "2 7\n",
      "0.18 0.89 109.85\n",
      "1.0 0.26 155.72\n",
      "0.92 0.11 137.66\n",
      "0.07 0.37 76.17\n",
      "0.85 0.16 139.75\n",
      "0.99 0.41 162.6\n",
      "0.87 0.47 151.77\n",
      "4\n",
      "0.49 0.18\n",
      "105.22\n",
      "0.57 0.83\n",
      "142.68\n",
      "0.56 0.64\n",
      "132.94\n",
      "0.76 0.18\n",
      "129.71\n"
     ]
    }
   ],
   "source": [
    "#Question 10: Multiple Linear Regression\n",
    "#Solution\n",
    "from sklearn import linear_model\n",
    "import numpy as np\n",
    "\n",
    "# suppress a annoying warning on macOS\n",
    "import warnings\n",
    "warnings.filterwarnings(action=\"ignore\", module=\"sklearn\", message=\"^internal gelsd\")\n",
    "\n",
    "m, n = map(int, input().split())\n",
    "\n",
    "X = []\n",
    "Y = []\n",
    "for _ in range(n):\n",
    "    f_y = np.array(input().split(), np.float)\n",
    "    X.append(f_y[:-1])\n",
    "    Y.append(f_y[-1])\n",
    "\n",
    "lm = linear_model.LinearRegression()\n",
    "lm.fit(X, Y)\n",
    "a = lm.intercept_\n",
    "b = lm.coef_\n",
    "\n",
    "for _ in range(int(input())):\n",
    "    f = np.array(input().split(), np.float)\n",
    "    y = a + np.sum(f * b)\n",
    "    print(np.ceil(y * 100) / 100)"
   ]
  },
  {
   "cell_type": "markdown",
   "metadata": {},
   "source": [
    "**Thankyou**"
   ]
  }
 ],
 "metadata": {
  "kernelspec": {
   "display_name": "Python 3",
   "language": "python",
   "name": "python3"
  },
  "language_info": {
   "codemirror_mode": {
    "name": "ipython",
    "version": 3
   },
   "file_extension": ".py",
   "mimetype": "text/x-python",
   "name": "python",
   "nbconvert_exporter": "python",
   "pygments_lexer": "ipython3",
   "version": "3.8.3"
  }
 },
 "nbformat": 4,
 "nbformat_minor": 4
}
