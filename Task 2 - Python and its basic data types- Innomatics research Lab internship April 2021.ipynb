{
 "cells": [
  {
   "cell_type": "markdown",
   "metadata": {},
   "source": [
    "# Task 2 - Python and basic data types- Innomatics Reseach Lab Internship"
   ]
  },
  {
   "cell_type": "markdown",
   "metadata": {},
   "source": [
    "**By Sahana Hegde**"
   ]
  },
  {
   "cell_type": "code",
   "execution_count": 1,
   "metadata": {},
   "outputs": [
    {
     "name": "stdout",
     "output_type": "stream",
     "text": [
      "2\n",
      "2\n",
      "2\n",
      "2\n",
      "[[0, 0, 0], [0, 0, 1], [0, 1, 0], [0, 1, 2], [0, 2, 1], [0, 2, 2], [1, 0, 0], [1, 0, 2], [1, 1, 1], [1, 1, 2], [1, 2, 0], [1, 2, 1], [1, 2, 2], [2, 0, 1], [2, 0, 2], [2, 1, 0], [2, 1, 1], [2, 1, 2], [2, 2, 0], [2, 2, 1], [2, 2, 2]]\n"
     ]
    }
   ],
   "source": [
    "#Question 1 : List Comprehensions\n",
    "#solution\n",
    "\n",
    "if __name__ == '__main__':\n",
    "    x = int(input())\n",
    "    y = int(input())\n",
    "    z = int(input())\n",
    "    n = int(input())\n",
    "    arr = [[X, Y, Z] for X in range(x+1) for Y in range(y+1) for Z in range(z+1) \n",
    "if X + Y + Z != n]\n",
    "print(arr)"
   ]
  },
  {
   "cell_type": "code",
   "execution_count": 2,
   "metadata": {},
   "outputs": [
    {
     "name": "stdout",
     "output_type": "stream",
     "text": [
      "5\n",
      "2 3 6 6 5\n",
      "5\n"
     ]
    }
   ],
   "source": [
    "#Question 2: Find the Runner-Up Score!\n",
    "#Solution\n",
    "\n",
    "if __name__ == '__main__':\n",
    "    n = int(input())\n",
    "    arr = map(int, input().split())\n",
    "  # To find out the runner up score\n",
    "    print(sorted(list(set(arr)))[-2])"
   ]
  },
  {
   "cell_type": "code",
   "execution_count": 3,
   "metadata": {},
   "outputs": [
    {
     "name": "stdout",
     "output_type": "stream",
     "text": [
      "5\n",
      "harry\n",
      "37.21\n",
      "berry\n",
      "37.21\n",
      "tina\n",
      "37.2\n",
      "akriti\n",
      "41\n",
      "harsha\n",
      "39\n",
      "berry\n",
      "harry\n"
     ]
    }
   ],
   "source": [
    "#Question 3: Nested Lists\n",
    "#Solution \n",
    "n=int(input())\n",
    "arr=[[input(),float(input())] for _ in range(0,n)]\n",
    "arr.sort(key=lambda x: (x[1],x[0]))\n",
    "names = [i[0] for i in arr]\n",
    "marks = [i[1] for i in arr]\n",
    "min_val=min(marks)\n",
    "while marks[0]==min_val:\n",
    "    marks.remove(marks[0])\n",
    "    names.remove(names[0])    \n",
    "for x in range(0,len(marks)):\n",
    "    if marks[x]==min(marks):\n",
    "        print(names[x])"
   ]
  },
  {
   "cell_type": "code",
   "execution_count": 4,
   "metadata": {},
   "outputs": [
    {
     "name": "stdout",
     "output_type": "stream",
     "text": [
      "3\n",
      "krishna 67 68 69\n",
      "arjun 70 98 63\n",
      "malika 52 56 60\n",
      "malika\n",
      "56.00\n"
     ]
    }
   ],
   "source": [
    "#Question 4: Finding the percentage\n",
    "#Solution\n",
    "if __name__ == '__main__':\n",
    "    n = int(input())\n",
    "    student_marks = {}\n",
    "    for _ in range(n):\n",
    "        name, *line = input().split()\n",
    "        scores = list(map(float, line))\n",
    "        student_marks[name] = scores\n",
    "    query_name = input()\n",
    "    arr = list(student_marks[query_name])    \n",
    "per = sum(arr)/len(arr);\n",
    "print(\"%.2f\" % per);"
   ]
  },
  {
   "cell_type": "code",
   "execution_count": 5,
   "metadata": {},
   "outputs": [
    {
     "name": "stdout",
     "output_type": "stream",
     "text": [
      "12\n",
      "insert 0 5\n",
      "insert 1 10\n",
      "insert 0 6\n",
      "print\n",
      "[6, 5, 10]\n",
      "remove 6\n",
      "append 9\n",
      "append 1\n",
      "sort\n",
      "print\n",
      "[1, 5, 9, 10]\n",
      "pop\n",
      "reverse\n",
      "print\n",
      "[9, 5, 1]\n"
     ]
    }
   ],
   "source": [
    "#Question 5: Lists\n",
    "#Solution\n",
    "def commdr(lst, instruct): \n",
    "    if instruct[0] == 'insert':\n",
    "        lst.insert(int(instruct[1]), int(instruct[2]))\n",
    "    elif instruct[0] == 'print':\n",
    "        print(lst)\n",
    "    elif instruct[0] == 'remove':\n",
    "        lst.remove(int(instruct[1]))\n",
    "    elif instruct[0] == 'append':\n",
    "        lst.append(int(instruct[1]))\n",
    "    elif instruct[0] == 'sort':\n",
    "        lst.sort()\n",
    "    elif instruct[0] == 'reverse':\n",
    "        lst.reverse()\n",
    "    elif instruct[0] == 'pop':\n",
    "        lst.pop()\n",
    "    else: \n",
    "        print(\"Command not recognized!\")\n",
    "\n",
    "n = int(input()) \n",
    "lst = []\n",
    "for command in range(0,n):\n",
    "    temp = [str(i) for i in input().strip().split()]\n",
    "    commdr(lst, temp)"
   ]
  },
  {
   "cell_type": "code",
   "execution_count": 6,
   "metadata": {},
   "outputs": [
    {
     "name": "stdout",
     "output_type": "stream",
     "text": [
      "2\n",
      "1 2\n",
      "-3550055125485641917\n"
     ]
    }
   ],
   "source": [
    "#Question 6:Tuples\n",
    "#Solution\n",
    "n = int(input())\n",
    "int_list = [int(i) for i in input().split()]\n",
    "int_tuple = tuple(int_list)\n",
    "print(hash(int_tuple))"
   ]
  },
  {
   "cell_type": "code",
   "execution_count": 7,
   "metadata": {},
   "outputs": [
    {
     "name": "stdout",
     "output_type": "stream",
     "text": [
      "10 \n",
      "161 182 161 154 176  170 167 171 170 174\n",
      "169.375\n"
     ]
    }
   ],
   "source": [
    "#Question 7: Introduction to Sets\n",
    "#Solution\n",
    "def average(array):\n",
    "    average=sum(set(arr))/len(set(arr))\n",
    "    return average\n",
    "\n",
    " \n",
    "\n",
    "if __name__ == '__main__':\n",
    "    n = int(input())\n",
    "    arr = list(map(int, input().split()))\n",
    "    result = average(arr)\n",
    "    print(result)"
   ]
  },
  {
   "cell_type": "code",
   "execution_count": 8,
   "metadata": {},
   "outputs": [
    {
     "name": "stdout",
     "output_type": "stream",
     "text": [
      "3 2 \n",
      "1 5 3\n",
      " 3 1\n",
      "5 7\n",
      "counter\n"
     ]
    }
   ],
   "source": [
    "#Question 8: No idea!\n",
    "#Solution\n",
    "# Enter your code here. Read input from STDIN. Print output to STDOUT\n",
    "n_m = input().split()\n",
    "n_m = map(int, n_m)\n",
    "n = map(int, input().split())\n",
    "U = set(map(int, input().split()))\n",
    "V = set(map(int, input().split()))\n",
    "\n",
    "counter = 0\n",
    "for i in n:\n",
    "    if i in U:\n",
    "        counter += 1\n",
    "    elif i in V:\n",
    "        counter -= 1\n",
    "\n",
    "print(\"counter\")"
   ]
  },
  {
   "cell_type": "code",
   "execution_count": 9,
   "metadata": {},
   "outputs": [
    {
     "name": "stdout",
     "output_type": "stream",
     "text": [
      "4\n",
      "2 4 5 9\n",
      "4\n",
      "2 4 11 12\n",
      "5\n",
      "9\n",
      "11\n",
      "12\n"
     ]
    }
   ],
   "source": [
    "#Question 9:Symmetric Difference\n",
    "#Solution\n",
    "# Enter your code here. Read input from STDIN. Print output to STDOUT\n",
    "int(input())\n",
    "N = input().split()\n",
    "Nint = set(list(map(int, N)))\n",
    "int(input())\n",
    "M = input().split()\n",
    "Mint = set(list(map(int, M)))\n",
    "res = []\n",
    "for i in list(Nint.difference(Mint)):\n",
    "    res.append(i)\n",
    "for j in list(Mint.difference(Nint)):\n",
    "    res.append(j)\n",
    "for k in sorted(res):\n",
    "    print (k)"
   ]
  },
  {
   "cell_type": "code",
   "execution_count": 10,
   "metadata": {},
   "outputs": [
    {
     "name": "stdout",
     "output_type": "stream",
     "text": [
      "7\n",
      "UK\n",
      "China\n",
      "USA\n",
      "France\n",
      "New Zealand\n",
      "UK\n",
      "France\n",
      "5\n"
     ]
    }
   ],
   "source": [
    "#Question 10: Set.add()\n",
    "#Solution\n",
    "# Enter your code here. Read input from STDIN. Print output to STDOUT\n",
    "items = set()\n",
    "for i in range(int(input())):\n",
    "    items.add(input())\n",
    "print(len(items))"
   ]
  },
  {
   "cell_type": "code",
   "execution_count": 11,
   "metadata": {},
   "outputs": [
    {
     "name": "stdout",
     "output_type": "stream",
     "text": [
      "9\n",
      "1 2 3 4 5 6 7 8 9\n",
      "10\n",
      "pop\n",
      "remove 9\n",
      "discard 9\n",
      "discard 8\n",
      "remove 7\n",
      "pop\n",
      "discard 6\n",
      "remove 5\n",
      "pop\n",
      "discard 5\n",
      "4\n"
     ]
    }
   ],
   "source": [
    "#Question 11: Set .discard(), .remove() & .pop\n",
    "#Solution\n",
    "n = int(input())\n",
    "s = set(map(int, input().split())) \n",
    "for i in range(int(input())):\n",
    "    eval('s.{0}({1})'.format(*input().split()+['']))\n",
    "\n",
    "print(sum(s))"
   ]
  },
  {
   "cell_type": "code",
   "execution_count": 12,
   "metadata": {
    "scrolled": true
   },
   "outputs": [
    {
     "name": "stdout",
     "output_type": "stream",
     "text": [
      "9\n",
      "1 2 3 4 5 6 7 8 9\n",
      "9\n",
      "10 1 2 3 11 21 55 6 8\n",
      "13\n"
     ]
    }
   ],
   "source": [
    "#Question 12: Set .union() Operation\n",
    "#Solution\n",
    "# Enter your code here. Read input from STDIN. Print output to STDOUT\n",
    "n = input()\n",
    "eng = set(map(int,input().split()))\n",
    "b = input()\n",
    "fre = set(map(int,input().split()))\n",
    "print(len(eng.union(fre)))"
   ]
  },
  {
   "cell_type": "code",
   "execution_count": 13,
   "metadata": {},
   "outputs": [
    {
     "name": "stdout",
     "output_type": "stream",
     "text": [
      "9\n",
      "1 2 3 4 5 6 7 8 9\n",
      "9\n",
      "10 1 2 3 11 21 55 6 8\n",
      "5\n"
     ]
    }
   ],
   "source": [
    "#Question 13: Set.intersection() Operation\n",
    "#Solution\n",
    "num1 = int(input())\n",
    "setA = set(map(int, input().split()))\n",
    "num2 = int(input())\n",
    "setB = set(map(int, input().split()))\n",
    "\n",
    "print(len(setA.intersection(setB)))"
   ]
  },
  {
   "cell_type": "code",
   "execution_count": 31,
   "metadata": {
    "scrolled": true
   },
   "outputs": [
    {
     "name": "stdout",
     "output_type": "stream",
     "text": [
      "9\n",
      "1 2 3 4 5 6 7 8 9\n",
      "9\n",
      "10 1 2 3 11 21 55 6 8\n",
      "4\n"
     ]
    }
   ],
   "source": [
    "#question 14:Set .difference() Operation\n",
    "#Solution\n",
    "N1 = int(input())\n",
    "storage1 = set(input().split())\n",
    "\n",
    "N2 = int(input())\n",
    "storage2 = set(input().split())\n",
    "\n",
    "storage3 = storage1.difference(storage2)\n",
    "\n",
    "print(len(storage3))"
   ]
  },
  {
   "cell_type": "code",
   "execution_count": 32,
   "metadata": {},
   "outputs": [
    {
     "name": "stdout",
     "output_type": "stream",
     "text": [
      "9\n",
      "1 2 3 4 5 6 7 8 9\n",
      "9\n",
      "10 1 2 3 11 21 55 6 8\n",
      "8\n"
     ]
    }
   ],
   "source": [
    "#Question 15: Set_.symmetric_difference()_Operation\n",
    "#solution\n",
    "a = int(input())\n",
    "b = input().split()\n",
    "b = list(map(int, b))\n",
    "c = int(input())\n",
    "d = input().split()\n",
    "d = list(map(int, d))\n",
    "\n",
    "print (len(set(b).symmetric_difference(set(d))))\n"
   ]
  },
  {
   "cell_type": "code",
   "execution_count": 19,
   "metadata": {},
   "outputs": [
    {
     "name": "stdout",
     "output_type": "stream",
     "text": [
      "16\n",
      "1 2 3 4 5 6 7 8 9 10 11 12 13 14 24 52\n",
      "4\n",
      "intersection_update 10\n",
      "2 3 5 6 8 9 1 4 7 11\n",
      "update 2\n",
      "55 66\n",
      "symmetric_difference_update 5\n",
      "22 7 35 62 58\n",
      "difference_update 7\n",
      "11 22 35 55 58 62 66\n",
      "38\n"
     ]
    }
   ],
   "source": [
    "#Question 16: Set Mutations\n",
    "#solution\n",
    "en_set = int(input())\n",
    "\n",
    "storage = set(map(int, input().split()))\n",
    "\n",
    "op_len = int(input())\n",
    "\n",
    "for i in range(op_len):\n",
    "    operation = input().split()\n",
    "    if operation[0] == 'intersection_update':\n",
    "        temp_storage = set(map(int, input().split()))\n",
    "        storage.intersection_update(temp_storage)\n",
    "    elif operation[0] == 'update':\n",
    "        temp_storage = set(map(int, input().split()))\n",
    "        storage.update(temp_storage)\n",
    "    elif operation[0] == 'symmetric_difference_update':\n",
    "        temp_storage = set(map(int, input().split()))\n",
    "        storage.symmetric_difference_update(temp_storage)\n",
    "    elif operation[0] == 'difference_update':\n",
    "        temp_storage = set(map(int, input().split()))\n",
    "        storage.difference_update(temp_storage)\n",
    "    else :\n",
    "        assert False\n",
    "\n",
    "print(sum(storage))"
   ]
  },
  {
   "cell_type": "code",
   "execution_count": 21,
   "metadata": {},
   "outputs": [
    {
     "name": "stdout",
     "output_type": "stream",
     "text": [
      "5\n",
      "1 2 3 6 5 4 4 2 5 3 6 1 6 5 3 2 4 1 2 5 1 4 3 6 8 4 3 1 5 6 2 \n",
      "8\n"
     ]
    }
   ],
   "source": [
    "#Question: 17: The Captain's Room\n",
    "#Solution\n",
    "U = int(input())\n",
    "set_S = set()\n",
    "sumlist_S = 0\n",
    "for i in input().split():\n",
    "    I = int(i)\n",
    "    set_S.add(I)\n",
    "    sumlist_S += I\n",
    "\n",
    "print((sum(set_S)*U - sumlist_S)//(U-1))"
   ]
  },
  {
   "cell_type": "code",
   "execution_count": 25,
   "metadata": {},
   "outputs": [
    {
     "name": "stdout",
     "output_type": "stream",
     "text": [
      "3\n",
      "5\n",
      "1 2 3 5 6\n",
      "9\n",
      "9 8 5 6 3 2 1 4 7\n",
      "True\n",
      "1\n",
      "2\n",
      "5\n",
      "3 6 5 4 1\n",
      "False\n",
      "7\n",
      "1 2 3 5 6 8 9\n",
      "3\n",
      "9 8 2\n",
      "False\n"
     ]
    }
   ],
   "source": [
    "# Question: 18: check subset\n",
    "#Solution\n",
    "W = int(input())\n",
    "\n",
    "for _ in range(W):\n",
    "    x = input()\n",
    "    X = set(input().split())\n",
    "    y = int(input())\n",
    "    Y = set(input().split())\n",
    "    print(X.issubset(Y))"
   ]
  },
  {
   "cell_type": "code",
   "execution_count": 26,
   "metadata": {},
   "outputs": [
    {
     "name": "stdout",
     "output_type": "stream",
     "text": [
      "1 2 3 4 5 6 7 8 9 10 11 12 23 45 84 78\n",
      "2\n",
      "1 2 3 4 5\n",
      "100 11 12\n",
      "False\n"
     ]
    }
   ],
   "source": [
    "#Question 19 :Check Strict Superset\n",
    "#Solution\n",
    "# Enter your code here. Read input from STDIN. Print output to STDOUT\n",
    "B = set(map(int, input().split()))\n",
    "for _ in range(int(input())):\n",
    "    Y = set(map(int, input().split()))\n",
    "    if B.issuperset(Y) != True or len(B) == len(Y): \n",
    "        print(False)\n",
    "        break \n",
    "else: print(True)"
   ]
  },
  {
   "cell_type": "markdown",
   "metadata": {},
   "source": [
    "**Thankyou**"
   ]
  },
  {
   "cell_type": "code",
   "execution_count": null,
   "metadata": {},
   "outputs": [],
   "source": []
  }
 ],
 "metadata": {
  "kernelspec": {
   "display_name": "Python 3",
   "language": "python",
   "name": "python3"
  },
  "language_info": {
   "codemirror_mode": {
    "name": "ipython",
    "version": 3
   },
   "file_extension": ".py",
   "mimetype": "text/x-python",
   "name": "python",
   "nbconvert_exporter": "python",
   "pygments_lexer": "ipython3",
   "version": "3.8.3"
  }
 },
 "nbformat": 4,
 "nbformat_minor": 4
}
