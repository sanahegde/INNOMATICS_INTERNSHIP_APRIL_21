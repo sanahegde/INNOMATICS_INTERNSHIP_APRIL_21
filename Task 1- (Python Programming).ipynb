{
 "cells": [
  {
   "cell_type": "markdown",
   "metadata": {},
   "source": [
    "# TASK 1 - (PYTHON PROGRAMMING) \n",
    "**INNOMATICS RESEARCH LABS _ APRIL 2021**\n",
    " \n",
    " **BY: SAHANA HEGDE**"
   ]
  },
  {
   "cell_type": "code",
   "execution_count": 15,
   "metadata": {},
   "outputs": [
    {
     "name": "stdout",
     "output_type": "stream",
     "text": [
      "Hello, World!\n"
     ]
    }
   ],
   "source": [
    "# Question 1 :Say \"Hello, World!\" With Python\n",
    "#soltuion\n",
    "\n",
    "if __name__ == '__main__':\n",
    "    print (\"Hello, World!\")\n"
   ]
  },
  {
   "cell_type": "code",
   "execution_count": 3,
   "metadata": {},
   "outputs": [
    {
     "name": "stdout",
     "output_type": "stream",
     "text": [
      "24\n",
      "Not Weird\n"
     ]
    }
   ],
   "source": [
    "#Question 2 : Python:  if-else \n",
    "#Solution\n",
    "\n",
    "#!/bin/python\n",
    "\n",
    "import math\n",
    "import os\n",
    "import random\n",
    "import re\n",
    "import sys\n",
    "\n",
    "\n",
    "\n",
    "if __name__ == '__main__':\n",
    "    n = int(input().strip())\n",
    "# If is odd, print weird\n",
    "if(n % 2!=0 ):\n",
    "    print (\"Weird\")\n",
    "    #If is even\n",
    "elif( n % 2 == 0):\n",
    "    if( n >= 2 and n <=5 ):\n",
    "        print (\"Not Weird\")\n",
    "    elif( n >=5 and n<=20 ):\n",
    "        print (\"Weird\")\n",
    "    elif(n >=20):\n",
    "        print (\"Not Weird\")"
   ]
  },
  {
   "cell_type": "code",
   "execution_count": 5,
   "metadata": {},
   "outputs": [
    {
     "name": "stdout",
     "output_type": "stream",
     "text": [
      "4\n",
      "6\n",
      "10\n",
      "-2\n",
      "24\n"
     ]
    }
   ],
   "source": [
    "#Question 3 : Arithmetic Operators \n",
    "#Solution\n",
    "if __name__ == '__main__':\n",
    "    a = int(input())\n",
    "    b = int(input())\n",
    "    x = a + b\n",
    "    print (x)\n",
    "    y = a - b\n",
    "    print (y)\n",
    "    \n",
    "    z = a*b\n",
    "    print (z)\n",
    "\n"
   ]
  },
  {
   "cell_type": "code",
   "execution_count": 16,
   "metadata": {},
   "outputs": [
    {
     "name": "stdout",
     "output_type": "stream",
     "text": [
      "4\n",
      "3\n",
      "1\n",
      "1.3333333333333333\n"
     ]
    }
   ],
   "source": [
    "#Question 4: Python : Division\n",
    "\n",
    "#Solution\n",
    "from __future__ import division\n",
    "\n",
    "if __name__ == '__main__':\n",
    "    a = int(input())\n",
    "    b = int(input())\n",
    "\n",
    "x = a//b\n",
    "print (x)\n",
    "\n",
    "y = a/b\n",
    "print (y)\n"
   ]
  },
  {
   "cell_type": "code",
   "execution_count": 17,
   "metadata": {},
   "outputs": [
    {
     "name": "stdout",
     "output_type": "stream",
     "text": [
      "5\n",
      "0\n",
      "1\n",
      "4\n",
      "9\n",
      "16\n"
     ]
    }
   ],
   "source": [
    "#Question 5: Loops\n",
    "\n",
    "#Solution\n",
    "if __name__ == '__main__':\n",
    "    n = int(input())\n",
    "    for v in range(n):\n",
    "        print (v*v)\n"
   ]
  },
  {
   "cell_type": "code",
   "execution_count": 13,
   "metadata": {},
   "outputs": [
    {
     "name": "stdout",
     "output_type": "stream",
     "text": [
      "2000\n",
      "is_leap(year)\n"
     ]
    }
   ],
   "source": [
    "#QUESTION 6: Write a Function\n",
    "\n",
    "#SOLUTION\n",
    "def is_leap(year):\n",
    "    leap = False\n",
    "    if year % 400==0:\n",
    "        leap = True\n",
    "    elif year % 100 == 0:\n",
    "        leap = False\n",
    "    elif year % 4 == 0:\n",
    "        leap = True\n",
    "  \n",
    "    \n",
    "    return leap\n",
    "\n",
    "year = int(input())\n",
    "print ('is_leap(year)')\n",
    "\n"
   ]
  },
  {
   "cell_type": "code",
   "execution_count": 18,
   "metadata": {},
   "outputs": [
    {
     "name": "stdout",
     "output_type": "stream",
     "text": [
      "3\n",
      "123"
     ]
    }
   ],
   "source": [
    "#Question 7: Print Function\n",
    "#Solution\n",
    "\n",
    "from __future__ import print_function\n",
    "\n",
    "if __name__ == '__main__':\n",
    "    n = int(input())\n",
    "\n",
    "for j in range(n):\n",
    "    print(j+1,end=\"\")"
   ]
  },
  {
   "cell_type": "markdown",
   "metadata": {},
   "source": [
    "# Thankyou"
   ]
  },
  {
   "cell_type": "code",
   "execution_count": null,
   "metadata": {},
   "outputs": [],
   "source": []
  }
 ],
 "metadata": {
  "kernelspec": {
   "display_name": "Python 3",
   "language": "python",
   "name": "python3"
  },
  "language_info": {
   "codemirror_mode": {
    "name": "ipython",
    "version": 3
   },
   "file_extension": ".py",
   "mimetype": "text/x-python",
   "name": "python",
   "nbconvert_exporter": "python",
   "pygments_lexer": "ipython3",
   "version": "3.8.3"
  }
 },
 "nbformat": 4,
 "nbformat_minor": 4
}
