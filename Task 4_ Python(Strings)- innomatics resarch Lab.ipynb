{
 "cells": [
  {
   "cell_type": "markdown",
   "metadata": {},
   "source": [
    "# Task 4- Python (Strings) - Innomatics research lab\n",
    "**"
   ]
  },
  {
   "cell_type": "code",
   "execution_count": 2,
   "metadata": {},
   "outputs": [
    {
     "name": "stdout",
     "output_type": "stream",
     "text": [
      "HackerRank.com presents \"Pythonist 2\"\n",
      "hACKERrANK.COM PRESENTS \"pYTHONIST 2\"\n"
     ]
    }
   ],
   "source": [
    "#Question 1: sWAP cASE\n",
    "#Solution\n",
    "def change(x):\n",
    "    if str.islower(x):\n",
    "        return str.upper(x)\n",
    "    else:\n",
    "        return str.lower(x)\n",
    "def swap_case(s):\n",
    "    return ('').join(map(change,s))\n",
    "\n",
    "\n",
    "if __name__ == '__main__':\n",
    "    s = input()\n",
    "    result = swap_case(s)\n",
    "    print(result)"
   ]
  },
  {
   "cell_type": "code",
   "execution_count": 1,
   "metadata": {},
   "outputs": [
    {
     "name": "stdout",
     "output_type": "stream",
     "text": [
      "this is a string  \n",
      "this-is-a-string--\n"
     ]
    }
   ],
   "source": [
    "#Question 2: String Split and Join\n",
    "#Solution\n",
    "def split_and_join(line):\n",
    "     return \"-\".join(line.split(\" \"))\n",
    "    # write your code here\n",
    "\n",
    "if __name__ == '__main__':\n",
    "    line = input()\n",
    "    result = split_and_join(line)\n",
    "    print(result)"
   ]
  },
  {
   "cell_type": "code",
   "execution_count": 4,
   "metadata": {},
   "outputs": [
    {
     "name": "stdout",
     "output_type": "stream",
     "text": [
      "Ross\n",
      "Taylor\n",
      "Hello Ross Taylor! You just delved into python.\n"
     ]
    }
   ],
   "source": [
    "#Question 3: What's your Name?\n",
    "#Solution\n",
    "def print_full_name(a, b):\n",
    "    print (\"Hello \"+ a + \" \"+b+ \"! You just delved into python.\")\n",
    "   \n",
    "\n",
    "if __name__ == '__main__':\n",
    "    first_name =input()\n",
    "    last_name = input()\n",
    "    print_full_name(first_name, last_name)"
   ]
  },
  {
   "cell_type": "code",
   "execution_count": 7,
   "metadata": {},
   "outputs": [
    {
     "name": "stdout",
     "output_type": "stream",
     "text": [
      "abracadabra\n",
      "5 k\n",
      "abrackdabra\n"
     ]
    }
   ],
   "source": [
    "#Question 4: Mutations\n",
    "#Solution\n",
    "def mutate_string(string, position, character):\n",
    "    l = list(string)\n",
    "    l[position] = character;\n",
    "    string = ''.join(l);\n",
    "    return string\n",
    "   \n",
    "\n",
    "if __name__ == '__main__':\n",
    "    s = input()\n",
    "    i, c = input().split()\n",
    "    s_new = mutate_string(s, int(i), c)\n",
    "    print (s_new)"
   ]
  },
  {
   "cell_type": "code",
   "execution_count": 10,
   "metadata": {},
   "outputs": [
    {
     "name": "stdout",
     "output_type": "stream",
     "text": [
      "ABCDCDC\n",
      "CDC\n",
      "2\n"
     ]
    }
   ],
   "source": [
    "#Question 5: Find a string\n",
    "#Solution\n",
    "def count_substring(string, sub_string):\n",
    "    count = 0\n",
    "\n",
    "    for i in range(0, len(string)):\n",
    "        if string[i:i + len(sub_string)] == sub_string:\n",
    "            count += 1\n",
    "\n",
    "    return count\n",
    "    \n",
    "\n",
    "if __name__ == '__main__':\n",
    "    string = input().strip()\n",
    "    sub_string = input().strip()\n",
    "    \n",
    "    count = count_substring(string, sub_string)\n",
    "    print (count)"
   ]
  },
  {
   "cell_type": "code",
   "execution_count": 11,
   "metadata": {},
   "outputs": [
    {
     "name": "stdout",
     "output_type": "stream",
     "text": [
      "qA2\n",
      "True\n",
      "True\n",
      "True\n",
      "True\n",
      "True\n"
     ]
    }
   ],
   "source": [
    "#Question 6: String validators\n",
    "#Solution\n",
    "if __name__ == '__main__':\n",
    "    S = input()\n",
    "print(any(char.isalnum() for char in S))\n",
    "print(any(char.isalpha() for char in S))\n",
    "print(any(char.isdigit() for char in S))\n",
    "print(any(char.islower() for char in S))\n",
    "print(any(char.isupper() for char in S))\n"
   ]
  },
  {
   "cell_type": "code",
   "execution_count": 12,
   "metadata": {},
   "outputs": [
    {
     "name": "stdout",
     "output_type": "stream",
     "text": [
      "5\n",
      "    H    \n",
      "   HHH   \n",
      "  HHHHH  \n",
      " HHHHHHH \n",
      "HHHHHHHHH\n",
      "  HHHHH               HHHHH             \n",
      "  HHHHH               HHHHH             \n",
      "  HHHHH               HHHHH             \n",
      "  HHHHH               HHHHH             \n",
      "  HHHHH               HHHHH             \n",
      "  HHHHH               HHHHH             \n",
      "  HHHHHHHHHHHHHHHHHHHHHHHHH   \n",
      "  HHHHHHHHHHHHHHHHHHHHHHHHH   \n",
      "  HHHHHHHHHHHHHHHHHHHHHHHHH   \n",
      "  HHHHH               HHHHH             \n",
      "  HHHHH               HHHHH             \n",
      "  HHHHH               HHHHH             \n",
      "  HHHHH               HHHHH             \n",
      "  HHHHH               HHHHH             \n",
      "  HHHHH               HHHHH             \n",
      "                    HHHHHHHHH \n",
      "                     HHHHHHH  \n",
      "                      HHHHH   \n",
      "                       HHH    \n",
      "                        H     \n"
     ]
    }
   ],
   "source": [
    "#Question 7: Text Alignment\n",
    "#Solution\n",
    "#Replace all ______ with rjust, ljust or center. \n",
    "\n",
    "thickness = int(input()) #This must be an odd number\n",
    "c = 'H'\n",
    "\n",
    "#Top Cone\n",
    "for i in range(thickness):\n",
    "    print((c*i).rjust(thickness-1)+c+(c*i).ljust(thickness-1))\n",
    "\n",
    "#Top Pillars\n",
    "for i in range(thickness+1):\n",
    "    print((c*thickness).center(thickness*2)+(c*thickness).center(thickness*6))\n",
    "\n",
    "#Middle Belt\n",
    "for i in range((thickness+1)//2):\n",
    "    print((c*thickness*5).center(thickness*6))    \n",
    "\n",
    "#Bottom Pillars\n",
    "for i in range(thickness+1):\n",
    "    print((c*thickness).center(thickness*2)+(c*thickness).center(thickness*6))    \n",
    "\n",
    "#Bottom Cone\n",
    "for i in range(thickness):\n",
    "    print(((c*(thickness-i-1)).rjust(thickness)+c+(c*(thickness-i-1)).ljust(thickness)).rjust(thickness*6))"
   ]
  },
  {
   "cell_type": "code",
   "execution_count": 13,
   "metadata": {},
   "outputs": [
    {
     "name": "stdout",
     "output_type": "stream",
     "text": [
      "ABCDEFGHIJKLIMNOQRSTUVWXYZ\n",
      "4\n",
      "ABCD\n",
      "EFGH\n",
      "IJKL\n",
      "IMNO\n",
      "QRST\n",
      "UVWX\n",
      "YZ\n"
     ]
    }
   ],
   "source": [
    "#Question 8: Text Wrap\n",
    "#Solution\n",
    "import textwrap\n",
    "\n",
    "def wrap(string, max_width):\n",
    "  return \"\\n\".join(textwrap.wrap(string, max_width))\n",
    "\n",
    "if __name__ == '__main__':\n",
    "    string, max_width = input(), int(input())\n",
    "    result = wrap(string, max_width)\n",
    "    print(result)"
   ]
  },
  {
   "cell_type": "code",
   "execution_count": 14,
   "metadata": {},
   "outputs": [
    {
     "name": "stdout",
     "output_type": "stream",
     "text": [
      "9 27\n",
      "------------.|.------------\n",
      "---------.|..|..|.---------\n",
      "------.|..|..|..|..|.------\n",
      "---.|..|..|..|..|..|..|.---\n",
      "----------WELCOME----------\n",
      "---.|..|..|..|..|..|..|.---\n",
      "------.|..|..|..|..|.------\n",
      "---------.|..|..|.---------\n",
      "------------.|.------------\n"
     ]
    }
   ],
   "source": [
    "#Question 9: Designer Door Mat\n",
    "#Solution\n",
    "height = int((input().split())[0])\n",
    "width = height * 3\n",
    "half = int((height - 1) / 2)\n",
    "\n",
    "# Top half\n",
    "for line in range(1, half + 1):\n",
    "    non_dashes = ((line * 2) - 1)\n",
    "    dashes = int((width - (non_dashes * 3)) / 2)\n",
    "\n",
    "    print(\"%s%s%s\" % (\"-\" * dashes, \".|.\" * non_dashes, \"-\" * dashes))\n",
    "\n",
    "# Middle line\n",
    "print(\"%s%s%s\" % (\n",
    "    \"-\" * (int(width / 2) - 3),\n",
    "    \"WELCOME\",\n",
    "    \"-\" * (int(width / 2) - 3)\n",
    "))\n",
    "\n",
    "# Lower half\n",
    "for line in range(half, 0, -1):\n",
    "    non_dashes = ((line * 2) - 1)\n",
    "    dashes = int((width - (non_dashes * 3)) / 2)\n",
    "\n",
    "    print(\"%s%s%s\" % (\"-\" * dashes, \".|.\" * non_dashes, \"-\" * dashes))"
   ]
  },
  {
   "cell_type": "code",
   "execution_count": 16,
   "metadata": {},
   "outputs": [
    {
     "name": "stdout",
     "output_type": "stream",
     "text": [
      "17\n",
      "    1     1     1     1\n",
      "    2     2     2    10\n",
      "    3     3     3    11\n",
      "    4     4     4   100\n",
      "    5     5     5   101\n",
      "    6     6     6   110\n",
      "    7     7     7   111\n",
      "    8    10     8  1000\n",
      "    9    11     9  1001\n",
      "   10    12     A  1010\n",
      "   11    13     B  1011\n",
      "   12    14     C  1100\n",
      "   13    15     D  1101\n",
      "   14    16     E  1110\n",
      "   15    17     F  1111\n",
      "   16    20    10 10000\n",
      "   17    21    11 10001\n"
     ]
    }
   ],
   "source": [
    "#Question 10: String Formatting\n",
    "#Solution\n",
    "def print_formatted(num):\n",
    "    max_width = len(\"{0:b}\".format(num))\n",
    "\n",
    "    for i in range(1, num + 1):\n",
    "        decimal = \"{0}\".format(i).rjust(max_width)\n",
    "        octal = \"{0:o}\".format(i).rjust(max_width)\n",
    "        hexadecimal = \"{0:x}\".format(i).upper().rjust(max_width)\n",
    "        binary = \"{0:b}\".format(i).rjust(max_width)\n",
    "\n",
    "        print(\"%s %s %s %s\" % (decimal, octal, hexadecimal, binary))\n",
    "\n",
    "if __name__ == '__main__':\n",
    "    j = int(input())\n",
    "    print_formatted(j)"
   ]
  },
  {
   "cell_type": "code",
   "execution_count": 18,
   "metadata": {},
   "outputs": [
    {
     "name": "stdout",
     "output_type": "stream",
     "text": [
      "5\n",
      "--------e--------\n",
      "------e-d-e------\n",
      "----e-d-c-d-e----\n",
      "--e-d-c-b-c-d-e--\n",
      "e-d-c-b-a-b-c-d-e\n",
      "--e-d-c-b-c-d-e--\n",
      "----e-d-c-d-e----\n",
      "------e-d-e------\n",
      "--------e--------\n"
     ]
    }
   ],
   "source": [
    "#Question 11: Alphabet Rangoli\n",
    "#Solution\n",
    "def print_rangoli(size):\n",
    "    # your code goes here\n",
    "    \n",
    "    for i in range(n):\n",
    "        s = \"-\".join(chr(ord('a')+n-j-1) for j in range(i+1))\n",
    "        print((s+s[::-1][1:]).center(n*4-3, '-'))\n",
    "\n",
    "    for i in range(n-1):\n",
    "        s = \"-\".join(chr(ord('a')+n-j-1) for j in range(n-i-1))\n",
    "        print((s+s[::-1][1:]).center(n*4-3, '-'))\n",
    "\n",
    "if __name__ == '__main__':\n",
    "    n = int(input())\n",
    "    print_rangoli(n)\n"
   ]
  },
  {
   "cell_type": "code",
   "execution_count": 4,
   "metadata": {},
   "outputs": [
    {
     "name": "stdout",
     "output_type": "stream",
     "text": [
      "chris alan\n",
      "Chris Alan\n",
      "\n"
     ]
    }
   ],
   "source": [
    "#Question 12: Capitalize!\n",
    "#Solution\n",
    "import os\n",
    "\n",
    "def solve(s):\n",
    "\n",
    "    for x in s[:].split():\n",
    "        s = s.replace(x, x.capitalize())\n",
    "    return s\n",
    "\n",
    "s = input()\n",
    "result = solve(s)\n",
    "print(result + '\\n')\n"
   ]
  },
  {
   "cell_type": "code",
   "execution_count": 5,
   "metadata": {},
   "outputs": [
    {
     "name": "stdout",
     "output_type": "stream",
     "text": [
      "BANANA\n",
      "Stuart 12\n"
     ]
    }
   ],
   "source": [
    "#Question 13:  The Minion Game\n",
    "#Solution\n",
    "def minion_game(string):\n",
    "    # your code goes here\n",
    "    # The Minion Game in Python - Hacker Rank Solution START\n",
    "    player1 = 0;\n",
    "    player2 = 0;\n",
    "    str_len = len(string)\n",
    "    for i in range(str_len):\n",
    "        if s[i] in \"AEIOU\":\n",
    "            player1 += (str_len)-i\n",
    "        else :\n",
    "            player2 += (str_len)-i\n",
    "    \n",
    "    if player1 > player2:\n",
    "        print(\"Kevin\", player1)\n",
    "    elif player1 < player2:\n",
    "        print(\"Stuart\",player2)\n",
    "    elif player1 == player2:\n",
    "        print(\"Draw\")\n",
    "    else :\n",
    "        print(\"Draw\")\n",
    "    # The Minion Game in Python - Hacker Rank Solution END\n",
    "\n",
    "if __name__ == '__main__':\n",
    "    s = input()\n",
    "    minion_game(s)\n"
   ]
  },
  {
   "cell_type": "code",
   "execution_count": 6,
   "metadata": {},
   "outputs": [
    {
     "name": "stdout",
     "output_type": "stream",
     "text": [
      "AABCAAADA \n",
      "3\n",
      "AB\n",
      "CA\n",
      "AD\n"
     ]
    }
   ],
   "source": [
    "#Question 14: Merge the tools\n",
    "#Solution\n",
    "def merge_the_tools(string, k):\n",
    "    str=''\n",
    "    count=0\n",
    "    for i in string:\n",
    "        if i not in str:\n",
    "          str=str+i\n",
    "        count=count+1\n",
    "        if(count==k):\n",
    "            count=0\n",
    "            print(str)\n",
    "            str=''\n",
    "        \n",
    "if __name__ == '__main__':\n",
    "    string, k = input(), int(input())\n",
    "    merge_the_tools(string, k)"
   ]
  },
  {
   "cell_type": "markdown",
   "metadata": {},
   "source": [
    "**Thankyou**"
   ]
  }
 ],
 "metadata": {
  "kernelspec": {
   "display_name": "Python 3",
   "language": "python",
   "name": "python3"
  },
  "language_info": {
   "codemirror_mode": {
    "name": "ipython",
    "version": 3
   },
   "file_extension": ".py",
   "mimetype": "text/x-python",
   "name": "python",
   "nbconvert_exporter": "python",
   "pygments_lexer": "ipython3",
   "version": "3.8.3"
  }
 },
 "nbformat": 4,
 "nbformat_minor": 4
}
